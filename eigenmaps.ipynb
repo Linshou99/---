{
 "cells": [
  {
   "cell_type": "code",
   "execution_count": 1,
   "id": "eb540c7b-abf3-40cf-909b-35dd6efe5ea6",
   "metadata": {},
   "outputs": [],
   "source": [
    "import pickle\n",
    "import numpy as np\n",
    "import pandas as pd"
   ]
  },
  {
   "cell_type": "code",
   "execution_count": 2,
   "id": "84c34340-6d05-45ed-a50b-6ec506b27a2a",
   "metadata": {},
   "outputs": [],
   "source": [
    "# 依据conn邻接矩阵生成eigenmaps,用于生成空间嵌入\n",
    "from scipy.sparse import csr_matrix\n",
    "from scipy.sparse.csgraph import connected_components\n",
    "from scipy.linalg import eigh\n",
    "def compute_eigenmaps(adj_mx, k):\n",
    "    A = adj_mx.copy()\n",
    "    # row, col = A.nonzero()\n",
    "    # A[row, col] = A[col, row] = 1  # 0/1 matrix, symmetric\n",
    "\n",
    "    n_components,labels = connected_components(csr_matrix(A), directed=True, connection='strong', return_labels=True)\n",
    "    assert n_components == 1  # the graph should be connected\n",
    "\n",
    "    n = A.shape[0]\n",
    "    A = zero_diagonals(A)\n",
    "    # degrees = np.sum(A, axis=1)\n",
    "    # # 避免除以零，将度为零的节点的度设置为一个小正数（例如1e-6）\n",
    "    # degrees[degrees == 0] = 1e-6\n",
    "    # D = degrees**(-1/2)\n",
    "    # L = np.eye(n) - (A * D).T * D  # normalized Laplacian\n",
    "    D = np.sum(A, axis=1)**(-1/2)\n",
    "    L = np.eye(n) - (A * D).T * D  # normalized Laplacian\n",
    "\n",
    "    _, v = eigh(L)\n",
    "    print('pre_eigenmaps.shape:',v.shape)\n",
    "    eigenmaps = v[:, 1:(k + 1)]  # eigenvectors corresponding to the k smallest non-trivial eigenvalues\n",
    "\n",
    "    return eigenmaps\n",
    "\n",
    "def zero_diagonals(x):\n",
    "    y = x.copy()\n",
    "    y[np.diag_indices_from(y)] = 0\n",
    "\n",
    "    return y"
   ]
  },
  {
   "cell_type": "code",
   "execution_count": 3,
   "id": "25c153d4-1cf4-4e4f-bef0-86764759291c",
   "metadata": {},
   "outputs": [
    {
     "data": {
      "text/plain": [
       "(6392, 6392)"
      ]
     },
     "execution_count": 3,
     "metadata": {},
     "output_type": "execute_result"
    }
   ],
   "source": [
    "adj_matrix_filtered = pd.read_pickle('./data/adj_matrix_filtered_6392.pkl')\n",
    "adj_matrix_filtered.shape"
   ]
  },
  {
   "cell_type": "code",
   "execution_count": 4,
   "id": "fe5e3516-6977-4f0c-994a-45bee1003535",
   "metadata": {},
   "outputs": [
    {
     "name": "stdout",
     "output_type": "stream",
     "text": [
      "pre_eigenmaps.shape: (6392, 6392)\n"
     ]
    },
    {
     "data": {
      "text/plain": [
       "(6392, 8)"
      ]
     },
     "execution_count": 4,
     "metadata": {},
     "output_type": "execute_result"
    }
   ],
   "source": [
    "eigenmaps = compute_eigenmaps(adj_matrix_filtered,8)\n",
    "eigenmaps.shape"
   ]
  },
  {
   "cell_type": "code",
   "execution_count": 5,
   "id": "87d2d956-491f-4164-a422-e2a5cd4e72ca",
   "metadata": {},
   "outputs": [],
   "source": [
    "with open('./data/eigenmaps_6392.pkl', 'wb') as file:\n",
    "    pickle.dump(eigenmaps, file)\n",
    "file.close()"
   ]
  },
  {
   "cell_type": "code",
   "execution_count": 6,
   "id": "45567bd7-a6c6-49ea-b284-56f5ac2155b6",
   "metadata": {},
   "outputs": [
    {
     "data": {
      "text/plain": [
       "(6392, 8)"
      ]
     },
     "execution_count": 6,
     "metadata": {},
     "output_type": "execute_result"
    }
   ],
   "source": [
    "eigenmaps = pd.read_pickle('./data/eigenmaps_6392.pkl')\n",
    "eigenmaps.shape"
   ]
  },
  {
   "cell_type": "code",
   "execution_count": 12,
   "id": "b3b15204-2cef-4fff-86d0-f7003d29814c",
   "metadata": {},
   "outputs": [
    {
     "data": {
      "text/plain": [
       "array([[ 0.00000000e+00,  0.00000000e+00,  0.00000000e+00, ...,\n",
       "         0.00000000e+00,  0.00000000e+00,  0.00000000e+00],\n",
       "       [-2.60326865e-18,  7.52061171e-18,  2.24283055e-17, ...,\n",
       "         1.57494714e-19,  1.90298100e-22, -2.18222009e-19],\n",
       "       [ 6.03086824e-20, -4.35305909e-19,  5.77166193e-18, ...,\n",
       "         3.66946949e-31,  3.45280319e-17,  1.91374127e-20],\n",
       "       ...,\n",
       "       [-3.26289503e-47, -6.33031331e-18,  6.27803539e-18, ...,\n",
       "        -2.48133092e-48,  9.14444873e-19,  4.59415420e-22],\n",
       "       [-3.14692367e-47,  2.23417034e-47, -8.01070072e-48, ...,\n",
       "         7.24416221e-47, -1.58484216e-18,  3.71507820e-22],\n",
       "       [-8.90707498e-47,  3.79399966e-48, -1.30242547e-47, ...,\n",
       "         7.19215508e-48,  1.76444610e-48, -1.52756306e-49]])"
      ]
     },
     "execution_count": 12,
     "metadata": {},
     "output_type": "execute_result"
    }
   ],
   "source": [
    "eigenmaps"
   ]
  }
 ],
 "metadata": {
  "kernelspec": {
   "display_name": "Python 3 (ipykernel)",
   "language": "python",
   "name": "python3"
  },
  "language_info": {
   "codemirror_mode": {
    "name": "ipython",
    "version": 3
   },
   "file_extension": ".py",
   "mimetype": "text/x-python",
   "name": "python",
   "nbconvert_exporter": "python",
   "pygments_lexer": "ipython3",
   "version": "3.8.10"
  }
 },
 "nbformat": 4,
 "nbformat_minor": 5
}
