{
 "cells": [
  {
   "cell_type": "code",
   "execution_count": 1,
   "id": "5d8c253d-a9df-43bb-87e9-a9ea03ef3d7b",
   "metadata": {},
   "outputs": [],
   "source": [
    "import pandas as pd\n",
    "import numpy as np\n",
    "import re\n",
    "import pickle"
   ]
  },
  {
   "cell_type": "code",
   "execution_count": 2,
   "id": "bd36243b-3a8b-48fc-8420-2ebbef01b119",
   "metadata": {},
   "outputs": [
    {
     "data": {
      "text/html": [
       "<div>\n",
       "<style scoped>\n",
       "    .dataframe tbody tr th:only-of-type {\n",
       "        vertical-align: middle;\n",
       "    }\n",
       "\n",
       "    .dataframe tbody tr th {\n",
       "        vertical-align: top;\n",
       "    }\n",
       "\n",
       "    .dataframe thead th {\n",
       "        text-align: right;\n",
       "    }\n",
       "</style>\n",
       "<table border=\"1\" class=\"dataframe\">\n",
       "  <thead>\n",
       "    <tr style=\"text-align: right;\">\n",
       "      <th></th>\n",
       "      <th>link_id</th>\n",
       "      <th>width</th>\n",
       "      <th>direction</th>\n",
       "      <th>snodeid</th>\n",
       "      <th>enodeid</th>\n",
       "      <th>length</th>\n",
       "      <th>speedclass</th>\n",
       "      <th>lanenum</th>\n",
       "    </tr>\n",
       "  </thead>\n",
       "  <tbody>\n",
       "    <tr>\n",
       "      <th>0</th>\n",
       "      <td>1562548955</td>\n",
       "      <td>30</td>\n",
       "      <td>3</td>\n",
       "      <td>1520445066</td>\n",
       "      <td>1549742690</td>\n",
       "      <td>0.038</td>\n",
       "      <td>6</td>\n",
       "      <td>1</td>\n",
       "    </tr>\n",
       "    <tr>\n",
       "      <th>1</th>\n",
       "      <td>1570012174</td>\n",
       "      <td>55</td>\n",
       "      <td>2</td>\n",
       "      <td>1520482305</td>\n",
       "      <td>1554157827</td>\n",
       "      <td>0.013</td>\n",
       "      <td>5</td>\n",
       "      <td>2</td>\n",
       "    </tr>\n",
       "    <tr>\n",
       "      <th>2</th>\n",
       "      <td>1542179399</td>\n",
       "      <td>30</td>\n",
       "      <td>2</td>\n",
       "      <td>1520491527</td>\n",
       "      <td>1531173821</td>\n",
       "      <td>0.146</td>\n",
       "      <td>6</td>\n",
       "      <td>1</td>\n",
       "    </tr>\n",
       "    <tr>\n",
       "      <th>3</th>\n",
       "      <td>1562548950</td>\n",
       "      <td>55</td>\n",
       "      <td>1</td>\n",
       "      <td>1520433538</td>\n",
       "      <td>1549742156</td>\n",
       "      <td>0.029</td>\n",
       "      <td>7</td>\n",
       "      <td>1</td>\n",
       "    </tr>\n",
       "    <tr>\n",
       "      <th>4</th>\n",
       "      <td>1526068509</td>\n",
       "      <td>30</td>\n",
       "      <td>2</td>\n",
       "      <td>1520486391</td>\n",
       "      <td>1520499209</td>\n",
       "      <td>0.156</td>\n",
       "      <td>6</td>\n",
       "      <td>1</td>\n",
       "    </tr>\n",
       "    <tr>\n",
       "      <th>...</th>\n",
       "      <td>...</td>\n",
       "      <td>...</td>\n",
       "      <td>...</td>\n",
       "      <td>...</td>\n",
       "      <td>...</td>\n",
       "      <td>...</td>\n",
       "      <td>...</td>\n",
       "      <td>...</td>\n",
       "    </tr>\n",
       "    <tr>\n",
       "      <th>45143</th>\n",
       "      <td>1542174850</td>\n",
       "      <td>55</td>\n",
       "      <td>1</td>\n",
       "      <td>1531470215</td>\n",
       "      <td>1531432689</td>\n",
       "      <td>0.028</td>\n",
       "      <td>7</td>\n",
       "      <td>1</td>\n",
       "    </tr>\n",
       "    <tr>\n",
       "      <th>45144</th>\n",
       "      <td>1526066032</td>\n",
       "      <td>30</td>\n",
       "      <td>2</td>\n",
       "      <td>1520457318</td>\n",
       "      <td>1520455758</td>\n",
       "      <td>0.112</td>\n",
       "      <td>6</td>\n",
       "      <td>1</td>\n",
       "    </tr>\n",
       "    <tr>\n",
       "      <th>45145</th>\n",
       "      <td>1542091409</td>\n",
       "      <td>55</td>\n",
       "      <td>1</td>\n",
       "      <td>1520434054</td>\n",
       "      <td>1530823987</td>\n",
       "      <td>0.083</td>\n",
       "      <td>7</td>\n",
       "      <td>1</td>\n",
       "    </tr>\n",
       "    <tr>\n",
       "      <th>45146</th>\n",
       "      <td>1525859466</td>\n",
       "      <td>55</td>\n",
       "      <td>2</td>\n",
       "      <td>1520406288</td>\n",
       "      <td>1520411419</td>\n",
       "      <td>0.020</td>\n",
       "      <td>5</td>\n",
       "      <td>2</td>\n",
       "    </tr>\n",
       "    <tr>\n",
       "      <th>45147</th>\n",
       "      <td>1568519120</td>\n",
       "      <td>55</td>\n",
       "      <td>2</td>\n",
       "      <td>1553398471</td>\n",
       "      <td>1520419295</td>\n",
       "      <td>0.295</td>\n",
       "      <td>5</td>\n",
       "      <td>2</td>\n",
       "    </tr>\n",
       "  </tbody>\n",
       "</table>\n",
       "<p>45148 rows × 8 columns</p>\n",
       "</div>"
      ],
      "text/plain": [
       "          link_id  width  direction     snodeid     enodeid  length  \\\n",
       "0      1562548955     30          3  1520445066  1549742690   0.038   \n",
       "1      1570012174     55          2  1520482305  1554157827   0.013   \n",
       "2      1542179399     30          2  1520491527  1531173821   0.146   \n",
       "3      1562548950     55          1  1520433538  1549742156   0.029   \n",
       "4      1526068509     30          2  1520486391  1520499209   0.156   \n",
       "...           ...    ...        ...         ...         ...     ...   \n",
       "45143  1542174850     55          1  1531470215  1531432689   0.028   \n",
       "45144  1526066032     30          2  1520457318  1520455758   0.112   \n",
       "45145  1542091409     55          1  1520434054  1530823987   0.083   \n",
       "45146  1525859466     55          2  1520406288  1520411419   0.020   \n",
       "45147  1568519120     55          2  1553398471  1520419295   0.295   \n",
       "\n",
       "       speedclass  lanenum  \n",
       "0               6        1  \n",
       "1               5        2  \n",
       "2               6        1  \n",
       "3               7        1  \n",
       "4               6        1  \n",
       "...           ...      ...  \n",
       "45143           7        1  \n",
       "45144           6        1  \n",
       "45145           7        1  \n",
       "45146           5        2  \n",
       "45147           5        2  \n",
       "\n",
       "[45148 rows x 8 columns]"
      ]
     },
     "execution_count": 2,
     "metadata": {},
     "output_type": "execute_result"
    }
   ],
   "source": [
    "df_road_network = pd.read_csv('./data/road_network_sub-dataset.csv',sep='\\t')\n",
    "df_road_network"
   ]
  },
  {
   "cell_type": "code",
   "execution_count": 5,
   "id": "cb63f227-23f1-4b02-a426-6f857c77259f",
   "metadata": {},
   "outputs": [
    {
     "data": {
      "text/plain": [
       "(45148, 45148)"
      ]
     },
     "execution_count": 5,
     "metadata": {},
     "output_type": "execute_result"
    }
   ],
   "source": [
    "adj_matrix = np.zeros((45148, 45148))\n",
    "# 遍历列 A 的数据\n",
    "for index, row in df_road_network.iterrows():\n",
    "    current_value1 = row['snodeid']\n",
    "    current_value2 = row['enodeid']         \n",
    "    duplicate_indices_pre = df_road_network[df_road_network['enodeid'] == current_value1].index.tolist()\n",
    "    for adj_ind in set(duplicate_indices_pre):\n",
    "        adj_ind_dir = df_road_network.loc[adj_ind,'direction']\n",
    "        if row['direction'] == 0 or row['direction'] == 1:\n",
    "            if adj_ind_dir==0 or adj_ind_dir==1:\n",
    "                adj_matrix[index][adj_ind] = 1\n",
    "                adj_matrix[adj_ind][index] = 1\n",
    "            elif adj_ind_dir==2:\n",
    "                adj_matrix[adj_ind][index] = 1\n",
    "            else:\n",
    "                adj_matrix[index][adj_ind] = 1   \n",
    "        elif row['direction'] == 2:\n",
    "            if adj_ind_dir==0 or adj_ind_dir==1 or adj_ind_dir==2:\n",
    "                adj_matrix[adj_ind][index] = 1\n",
    "        else:\n",
    "            if adj_ind_dir==0 or adj_ind_dir==1 or adj_ind_dir==3:\n",
    "                adj_matrix[index][adj_ind] = 1\n",
    "                \n",
    "    duplicate_indices_post = df_road_network[df_road_network['snodeid'] == current_value2].index.tolist()\n",
    "    for adj_ind in set(duplicate_indices_post):\n",
    "        adj_ind_dir = df_road_network.loc[adj_ind,'direction']\n",
    "        if row['direction'] == 0 or row['direction'] == 1:\n",
    "            if adj_ind_dir==0 or adj_ind_dir==1:\n",
    "                adj_matrix[index][adj_ind] = 1\n",
    "                adj_matrix[adj_ind][index] = 1\n",
    "            elif adj_ind_dir==2:\n",
    "                adj_matrix[index][adj_ind] = 1\n",
    "            else:\n",
    "                adj_matrix[adj_ind][index] = 1   \n",
    "        elif row['direction'] == 2:\n",
    "            if adj_ind_dir==0 or adj_ind_dir==1 or adj_ind_dir==2:\n",
    "                adj_matrix[index][adj_ind] = 1\n",
    "        else:\n",
    "            if adj_ind_dir==0 or adj_ind_dir==1 or adj_ind_dir==3:\n",
    "                adj_matrix[adj_ind][index] = 1\n",
    "adj_matrix.shape     "
   ]
  },
  {
   "cell_type": "code",
   "execution_count": 6,
   "id": "8a551540-6412-4476-b464-1ae2c2dddba7",
   "metadata": {},
   "outputs": [],
   "source": [
    "# 依据conn邻接矩阵生成eigenmaps,用于生成空间嵌入\n",
    "from scipy.sparse import csr_matrix\n",
    "from scipy.sparse.csgraph import connected_components\n",
    "from scipy.linalg import eigh\n",
    "def compute_eigenmaps(adj_mx, k):\n",
    "    A = adj_mx.copy()\n",
    "    # row, col = A.nonzero()\n",
    "    # A[row, col] = A[col, row] = 1  # 0/1 matrix, symmetric\n",
    "\n",
    "    n_components,labels = connected_components(csr_matrix(A), directed=True, return_labels=True)\n",
    "    assert n_components == 1  # the graph should be connected\n",
    "\n",
    "    n = A.shape[0]\n",
    "    A = zero_diagonals(A)\n",
    "    # degrees = np.sum(A, axis=1)\n",
    "    # # 避免除以零，将度为零的节点的度设置为一个小正数（例如1e-6）\n",
    "    # degrees[degrees == 0] = 1e-6\n",
    "    # D = degrees**(-1/2)\n",
    "    # L = np.eye(n) - (A * D).T * D  # normalized Laplacian\n",
    "    D = np.sum(A, axis=1)**(-1/2)\n",
    "    L = np.eye(n) - (A * D).T * D  # normalized Laplacian\n",
    "\n",
    "    _, v = eigh(L)\n",
    "    print('pre_eigenmaps.shape:',v.shape)\n",
    "    eigenmaps = v[:, 1:(k + 1)]  # eigenvectors corresponding to the k smallest non-trivial eigenvalues\n",
    "\n",
    "    return eigenmaps\n",
    "\n",
    "def zero_diagonals(x):\n",
    "    y = x.copy()\n",
    "    y[np.diag_indices_from(y)] = 0\n",
    "\n",
    "    return y"
   ]
  },
  {
   "cell_type": "code",
   "execution_count": 7,
   "id": "f70bbe33-5038-4f38-8036-4c0623d76f1d",
   "metadata": {},
   "outputs": [
    {
     "name": "stdout",
     "output_type": "stream",
     "text": [
      "20849\n",
      "45148\n"
     ]
    }
   ],
   "source": [
    "A = adj_matrix.copy()\n",
    "# row, col = A.nonzero()\n",
    "# A[row, col] = A[col, row] = 1  # 0/1 matrix, symmetric\n",
    "n_components,labels = connected_components(csr_matrix(A), directed=True, connection='strong', return_labels=True)\n",
    "print(n_components)\n",
    "print(len(labels))"
   ]
  },
  {
   "cell_type": "code",
   "execution_count": 8,
   "id": "3a796e42-443c-4233-8ccb-3a74a5fc0d04",
   "metadata": {},
   "outputs": [
    {
     "data": {
      "text/plain": [
       "array([    0,     1,     2, ..., 20846, 20847, 20848], dtype=int32)"
      ]
     },
     "execution_count": 8,
     "metadata": {},
     "output_type": "execute_result"
    }
   ],
   "source": [
    "# 使用unique函数获取唯一的值以及它们的计数\n",
    "unique_values, counts = np.unique(labels, return_counts=True)\n",
    "unique_values"
   ]
  },
  {
   "cell_type": "code",
   "execution_count": 9,
   "id": "faa772cb-dd39-48f4-9c56-ed7af46e7670",
   "metadata": {},
   "outputs": [
    {
     "data": {
      "text/plain": [
       "[6392, 3848, 2307, 600, 537, 432, 278, 232, 231, 218]"
      ]
     },
     "execution_count": 9,
     "metadata": {},
     "output_type": "execute_result"
    }
   ],
   "source": [
    "sl = sorted(list(counts),reverse=True)\n",
    "sl[:10]"
   ]
  },
  {
   "cell_type": "code",
   "execution_count": 10,
   "id": "b0b871cd-d69a-4af2-b395-1b413b175b3f",
   "metadata": {},
   "outputs": [
    {
     "data": {
      "text/plain": [
       "(array([1298]),)"
      ]
     },
     "execution_count": 10,
     "metadata": {},
     "output_type": "execute_result"
    }
   ],
   "source": [
    "np.where(counts==6392)"
   ]
  },
  {
   "cell_type": "code",
   "execution_count": 11,
   "id": "f8657542-d5c4-452a-8d90-ff39b6edf135",
   "metadata": {},
   "outputs": [
    {
     "data": {
      "text/plain": [
       "array([    2,     5,     8, ..., 45133, 45134, 45137])"
      ]
     },
     "execution_count": 11,
     "metadata": {},
     "output_type": "execute_result"
    }
   ],
   "source": [
    "indices = np.where(labels == 1298)\n",
    "indices_ = indices[0]\n",
    "indices_"
   ]
  },
  {
   "cell_type": "code",
   "execution_count": 12,
   "id": "cf7acbc1-e75c-4afb-9129-5e1c7088411e",
   "metadata": {},
   "outputs": [
    {
     "data": {
      "text/plain": [
       "6392"
      ]
     },
     "execution_count": 12,
     "metadata": {},
     "output_type": "execute_result"
    }
   ],
   "source": [
    "len(indices_)"
   ]
  },
  {
   "cell_type": "code",
   "execution_count": 12,
   "id": "bdd7c9c1-2281-4c02-8dcd-2a0e968b0ad5",
   "metadata": {},
   "outputs": [
    {
     "data": {
      "text/plain": [
       "6392"
      ]
     },
     "execution_count": 12,
     "metadata": {},
     "output_type": "execute_result"
    }
   ],
   "source": [
    "road_network_linkid_filtered = df_road_network.loc[indices_, 'link_id']\n",
    "len(road_network_linkid_filtered)"
   ]
  },
  {
   "cell_type": "code",
   "execution_count": 3,
   "id": "75b2ca6d-b1b4-4d77-af0e-16cd87017d95",
   "metadata": {},
   "outputs": [
    {
     "ename": "NameError",
     "evalue": "name 'road_network_linkid_filtered' is not defined",
     "output_type": "error",
     "traceback": [
      "\u001b[0;31m---------------------------------------------------------------------------\u001b[0m",
      "\u001b[0;31mNameError\u001b[0m                                 Traceback (most recent call last)",
      "Input \u001b[0;32mIn [3]\u001b[0m, in \u001b[0;36m<cell line: 1>\u001b[0;34m()\u001b[0m\n\u001b[1;32m      1\u001b[0m \u001b[38;5;28;01mwith\u001b[39;00m \u001b[38;5;28mopen\u001b[39m(\u001b[38;5;124m'\u001b[39m\u001b[38;5;124m./data/road_network_linkid_filtered_6392.pkl\u001b[39m\u001b[38;5;124m'\u001b[39m, \u001b[38;5;124m'\u001b[39m\u001b[38;5;124mwb\u001b[39m\u001b[38;5;124m'\u001b[39m) \u001b[38;5;28;01mas\u001b[39;00m file:\n\u001b[0;32m----> 2\u001b[0m     pickle\u001b[38;5;241m.\u001b[39mdump(\u001b[38;5;28mlist\u001b[39m(\u001b[43mroad_network_linkid_filtered\u001b[49m), file)\n\u001b[1;32m      3\u001b[0m file\u001b[38;5;241m.\u001b[39mclose()\n\u001b[1;32m      4\u001b[0m road_network_linkid_filtered \u001b[38;5;241m=\u001b[39m pd\u001b[38;5;241m.\u001b[39mread_pickle(\u001b[38;5;124m'\u001b[39m\u001b[38;5;124m./data/road_network_linkid_filtered_6392.pkl\u001b[39m\u001b[38;5;124m'\u001b[39m)\n",
      "\u001b[0;31mNameError\u001b[0m: name 'road_network_linkid_filtered' is not defined"
     ]
    }
   ],
   "source": [
    "with open('./data/road_network_linkid_filtered_6392.pkl', 'wb') as file:\n",
    "    pickle.dump(list(road_network_linkid_filtered), file)\n",
    "file.close()"
   ]
  },
  {
   "cell_type": "code",
   "execution_count": 4,
   "id": "ad814b6a-fe50-4c7d-b778-334e0a73a670",
   "metadata": {},
   "outputs": [
    {
     "data": {
      "text/plain": [
       "6392"
      ]
     },
     "execution_count": 4,
     "metadata": {},
     "output_type": "execute_result"
    }
   ],
   "source": [
    "road_network_linkid_filtered = pd.read_pickle('./data/road_network_linkid_filtered_6392.pkl')\n",
    "len(road_network_linkid_filtered)"
   ]
  },
  {
   "cell_type": "code",
   "execution_count": 13,
   "id": "212921df-50b1-47df-92bc-7c724d0f7787",
   "metadata": {},
   "outputs": [
    {
     "data": {
      "text/plain": [
       "(6392, 6392)"
      ]
     },
     "execution_count": 13,
     "metadata": {},
     "output_type": "execute_result"
    }
   ],
   "source": [
    "# 使用索引数组从大矩阵中取出行和列\n",
    "adj_matrix_filtered = adj_matrix[indices_][:, indices_]\n",
    "adj_matrix_filtered.shape"
   ]
  },
  {
   "cell_type": "code",
   "execution_count": 14,
   "id": "cd1eb7d1-634a-4939-97ae-b7d9d73fdc39",
   "metadata": {},
   "outputs": [],
   "source": [
    "with open('./data/adj_matrix_filtered_6392.pkl', 'wb') as file:\n",
    "    pickle.dump(adj_matrix_filtered, file)\n",
    "file.close()"
   ]
  },
  {
   "cell_type": "code",
   "execution_count": 17,
   "id": "1528f313-b68a-42eb-afde-bb235c463a15",
   "metadata": {},
   "outputs": [
    {
     "data": {
      "text/plain": [
       "(6392, 6392)"
      ]
     },
     "execution_count": 17,
     "metadata": {},
     "output_type": "execute_result"
    }
   ],
   "source": [
    "adj_matrix_filtered = pd.read_pickle('./data/adj_matrix_filtered_6392.pkl')\n",
    "adj_matrix_filtered.shape"
   ]
  },
  {
   "cell_type": "code",
   "execution_count": 18,
   "id": "345b0a21-52d6-43c6-bdd2-c431fdb829b2",
   "metadata": {},
   "outputs": [
    {
     "data": {
      "text/plain": [
       "8928"
      ]
     },
     "execution_count": 18,
     "metadata": {},
     "output_type": "execute_result"
    }
   ],
   "source": [
    "len(adj_matrix_filtered[adj_matrix_filtered==1])"
   ]
  },
  {
   "cell_type": "code",
   "execution_count": 19,
   "id": "4b74dc61-09da-4ec0-a936-8d6eba40b019",
   "metadata": {},
   "outputs": [],
   "source": [
    "with open('./data/indices_6392.pkl', 'wb') as file:\n",
    "    pickle.dump(indices_, file)\n",
    "file.close()"
   ]
  },
  {
   "cell_type": "code",
   "execution_count": 20,
   "id": "3d90a74e-7f7d-4cb6-9b85-b954d6c29ae4",
   "metadata": {},
   "outputs": [
    {
     "data": {
      "text/plain": [
       "array([    2,     5,     8, ..., 45133, 45134, 45137])"
      ]
     },
     "execution_count": 20,
     "metadata": {},
     "output_type": "execute_result"
    }
   ],
   "source": [
    "indices_6392 = pd.read_pickle('./data/indices_6392.pkl')\n",
    "indices_6392"
   ]
  },
  {
   "cell_type": "code",
   "execution_count": 21,
   "id": "84239d0e-2e82-4c23-83aa-3678f7b0dcad",
   "metadata": {},
   "outputs": [
    {
     "data": {
      "text/plain": [
       "6392"
      ]
     },
     "execution_count": 21,
     "metadata": {},
     "output_type": "execute_result"
    }
   ],
   "source": [
    "len(indices_6392)"
   ]
  }
 ],
 "metadata": {
  "kernelspec": {
   "display_name": "Python 3 (ipykernel)",
   "language": "python",
   "name": "python3"
  },
  "language_info": {
   "codemirror_mode": {
    "name": "ipython",
    "version": 3
   },
   "file_extension": ".py",
   "mimetype": "text/x-python",
   "name": "python",
   "nbconvert_exporter": "python",
   "pygments_lexer": "ipython3",
   "version": "3.8.10"
  }
 },
 "nbformat": 4,
 "nbformat_minor": 5
}
