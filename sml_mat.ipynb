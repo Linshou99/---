{
 "cells": [
  {
   "cell_type": "code",
   "execution_count": 1,
   "id": "ec4af475-c576-49ce-9617-6c1e09c343b3",
   "metadata": {},
   "outputs": [],
   "source": [
    "import pandas as pd\n",
    "import numpy as np\n",
    "import re\n",
    "import pickle"
   ]
  },
  {
   "cell_type": "code",
   "execution_count": 2,
   "id": "5ae430c6-887c-4304-b93f-3344d854dc54",
   "metadata": {},
   "outputs": [],
   "source": [
    "df_road_network = pd.read_csv('./data/road_network_sub-dataset.csv',sep='\\t')"
   ]
  },
  {
   "cell_type": "code",
   "execution_count": 3,
   "id": "11ad1685-12ef-4700-bbcc-4be5e98bdf55",
   "metadata": {},
   "outputs": [],
   "source": [
    "speed = pd.read_pickle('./data/event_traffic_beijing_1km_mv_avg_15min_completion.pkl')"
   ]
  },
  {
   "cell_type": "code",
   "execution_count": 7,
   "id": "e53db451-b933-4680-af86-4d6c0f44d013",
   "metadata": {},
   "outputs": [
    {
     "data": {
      "text/plain": [
       "6392"
      ]
     },
     "execution_count": 7,
     "metadata": {},
     "output_type": "execute_result"
    }
   ],
   "source": [
    "road_network_linkid_filtered = pd.read_pickle('./data/road_network_linkid_filtered_6392.pkl')\n",
    "len(road_network_linkid_filtered)"
   ]
  },
  {
   "cell_type": "code",
   "execution_count": 8,
   "id": "c6c3c1a8-bcdf-409c-8084-230acc1ad3d5",
   "metadata": {},
   "outputs": [
    {
     "name": "stdout",
     "output_type": "stream",
     "text": [
      "(6392, 5856)\n"
     ]
    }
   ],
   "source": [
    "speed_filter = []\n",
    "for i in road_network_linkid_filtered:\n",
    "    speed_filter.append(speed[str(i)])\n",
    "print(np.array(speed_filter).shape)"
   ]
  },
  {
   "cell_type": "code",
   "execution_count": 9,
   "id": "cff43b27-cb3f-4bc1-b6ec-3f25fa2b927f",
   "metadata": {},
   "outputs": [],
   "source": [
    "def compute_graph_sml(data, delta):\n",
    "    # (num_nodes,total_intervals*num_features)\n",
    "    # n=num_nodes, c = total_intervals*num_features\n",
    "    n, c = data.shape  \n",
    "    graph_sml = np.zeros((n, n), dtype=np.float32)\n",
    "    for i in range(n):\n",
    "        for j in range(i, n):\n",
    "            a = np.linalg.norm(data[i] - data[j])**2\n",
    "            b = np.minimum(np.linalg.norm(data[i])**2, np.linalg.norm(data[j])**2)\n",
    "            c = np.exp(-a / b)\n",
    "            if c > delta:\n",
    "                graph_sml[j, i] = graph_sml[i, j] = c\n",
    "\n",
    "    return graph_sml"
   ]
  },
  {
   "cell_type": "code",
   "execution_count": 10,
   "id": "329bf874-a65d-45ee-9dbf-b4ff795eecb0",
   "metadata": {},
   "outputs": [
    {
     "data": {
      "text/plain": [
       "(6392, 6392)"
      ]
     },
     "execution_count": 10,
     "metadata": {},
     "output_type": "execute_result"
    }
   ],
   "source": [
    "sml_mat = compute_graph_sml(np.array(speed_filter),0.1)\n",
    "sml_mat.shape"
   ]
  },
  {
   "cell_type": "code",
   "execution_count": 11,
   "id": "30638950-99b6-4b03-b34d-6874d68f0668",
   "metadata": {},
   "outputs": [
    {
     "data": {
      "text/plain": [
       "array([[1.        , 0.92612165, 0.8700232 , ..., 0.9291955 , 0.9580964 ,\n",
       "        0.9707211 ],\n",
       "       [0.92612165, 1.        , 0.91465575, ..., 0.9510194 , 0.9083165 ,\n",
       "        0.9411666 ],\n",
       "       [0.8700232 , 0.91465575, 1.        , ..., 0.9391923 , 0.87101394,\n",
       "        0.87446636],\n",
       "       ...,\n",
       "       [0.9291955 , 0.9510194 , 0.9391923 , ..., 1.        , 0.9256878 ,\n",
       "        0.9414523 ],\n",
       "       [0.9580964 , 0.9083165 , 0.87101394, ..., 0.9256878 , 1.        ,\n",
       "        0.97430164],\n",
       "       [0.9707211 , 0.9411666 , 0.87446636, ..., 0.9414523 , 0.97430164,\n",
       "        1.        ]], dtype=float32)"
      ]
     },
     "execution_count": 11,
     "metadata": {},
     "output_type": "execute_result"
    }
   ],
   "source": [
    "sml_mat"
   ]
  },
  {
   "cell_type": "code",
   "execution_count": 12,
   "id": "668b2b4e-9055-41cd-9b2f-d8a18b7616cb",
   "metadata": {},
   "outputs": [],
   "source": [
    "with open('./data/sml_mat_6392.pkl', 'wb') as file:\n",
    "    pickle.dump(sml_mat, file)\n",
    "file.close()"
   ]
  },
  {
   "cell_type": "code",
   "execution_count": 13,
   "id": "39f4963e-8e33-4d3f-b721-c624de4061c9",
   "metadata": {},
   "outputs": [
    {
     "data": {
      "text/plain": [
       "(6392, 6392)"
      ]
     },
     "execution_count": 13,
     "metadata": {},
     "output_type": "execute_result"
    }
   ],
   "source": [
    "sml_mat = pd.read_pickle('./data/sml_mat_6392.pkl')\n",
    "sml_mat.shape"
   ]
  }
 ],
 "metadata": {
  "kernelspec": {
   "display_name": "Python 3 (ipykernel)",
   "language": "python",
   "name": "python3"
  },
  "language_info": {
   "codemirror_mode": {
    "name": "ipython",
    "version": 3
   },
   "file_extension": ".py",
   "mimetype": "text/x-python",
   "name": "python",
   "nbconvert_exporter": "python",
   "pygments_lexer": "ipython3",
   "version": "3.8.10"
  }
 },
 "nbformat": 4,
 "nbformat_minor": 5
}
